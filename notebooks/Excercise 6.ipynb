{
 "cells": [
  {
   "cell_type": "code",
   "execution_count": 1,
   "metadata": {},
   "outputs": [],
   "source": [
    "%matplotlib ipympl\n",
    "def figure(name, *args, **kwargs):\n",
    "    plt.close(name)\n",
    "    plt.figure(name, *args, **kwargs)\n",
    "\n",
    "import numpy as np\n",
    "import pylab as plt\n",
    "# plt.style.use('default')"
   ]
  },
  {
   "cell_type": "code",
   "execution_count": 2,
   "metadata": {},
   "outputs": [],
   "source": [
    "from nonlinear6 import NonLinear\n",
    "import numpy as np\n",
    "from ipywidgets import HBox, FloatSlider, IntSlider"
   ]
  },
  {
   "cell_type": "markdown",
   "metadata": {},
   "source": [
    "# Exercise 1"
   ]
  },
  {
   "cell_type": "markdown",
   "metadata": {},
   "source": [
    "## $\\varepsilon_2 = 0$"
   ]
  },
  {
   "cell_type": "code",
   "execution_count": 26,
   "metadata": {},
   "outputs": [
    {
     "data": {
      "application/vnd.jupyter.widget-view+json": {
       "model_id": "e7b606d942014fc885852bb2fc0b01db",
       "version_major": 2,
       "version_minor": 0
      },
      "text/plain": [
       "HBox(children=(IntProgress(value=0, max=99), HTML(value='')))"
      ]
     },
     "metadata": {},
     "output_type": "display_data"
    }
   ],
   "source": [
    "RG = NonLinear()\n",
    "\n",
    "RG.dt = 0.01\n",
    "RG.times = np.arange(-10, 10, RG.dt)\n",
    "\n",
    "RG.dz = 0.01\n",
    "RG.z = np.arange(0, 1, RG.dz)\n",
    "\n",
    "RG.eta = 1\n",
    "RG.a0 = RG.eta / np.cosh(RG.times * RG.eta)\n",
    "\n",
    "RG.eps3 = 0.0\n",
    "RG.eps4 = 0.01\n",
    "\n",
    "RG.integrate(notebook=True)"
   ]
  },
  {
   "cell_type": "code",
   "execution_count": 27,
   "metadata": {},
   "outputs": [
    {
     "data": {
      "application/vnd.jupyter.widget-view+json": {
       "model_id": "d091509e66314b17b834d71d4c5669b1",
       "version_major": 2,
       "version_minor": 0
      },
      "text/plain": [
       "FigureCanvasNbAgg()"
      ]
     },
     "metadata": {},
     "output_type": "display_data"
    },
    {
     "data": {
      "application/vnd.jupyter.widget-view+json": {
       "model_id": "58cdb309be3c4964b5a2157752b59f65",
       "version_major": 2,
       "version_minor": 0
      },
      "text/plain": [
       "FloatSlider(value=0.0, description='$z:$', max=0.99)"
      ]
     },
     "metadata": {},
     "output_type": "display_data"
    }
   ],
   "source": [
    "slider = FloatSlider(\n",
    "    orientation='horizontal',\n",
    "    value=0,\n",
    "    min=0.,\n",
    "    max=RG.z[-1],\n",
    "    description='$z:$'\n",
    ")\n",
    "\n",
    "fig = figure(1, figsize=(8, 4))\n",
    "\n",
    "line, = plt.plot(RG.times, np.real(RG.Y[0]))\n",
    "line2, = plt.plot(RG.times, abs(RG.Y[0]), 'k--')\n",
    "\n",
    "\n",
    "def update_lines(change):\n",
    "    i = np.argmin(abs(RG.z-change.new))\n",
    "    line.set_data(RG.times, np.real(RG.Y[i]))\n",
    "    line2.set_data(RG.times, abs(RG.Y[i]))\n",
    "    \n",
    "    fig.canvas.draw()\n",
    "    fig.canvas.flush_events()\n",
    "    \n",
    "slider.observe(update_lines, names='value')\n",
    "slider"
   ]
  },
  {
   "cell_type": "code",
   "execution_count": 5,
   "metadata": {},
   "outputs": [
    {
     "data": {
      "application/vnd.jupyter.widget-view+json": {
       "model_id": "f223e5b5fc4647309a5b84a51a7bb5db",
       "version_major": 2,
       "version_minor": 0
      },
      "text/plain": [
       "FigureCanvasNbAgg()"
      ]
     },
     "metadata": {},
     "output_type": "display_data"
    },
    {
     "data": {
      "text/plain": [
       "<matplotlib.legend.Legend at 0x7ff0283e7978>"
      ]
     },
     "execution_count": 5,
     "metadata": {},
     "output_type": "execute_result"
    }
   ],
   "source": [
    "fig = figure(2, figsize=(8, 4))\n",
    "\n",
    "plt.semilogy(RG.z, np.max(abs(RG.Y), axis=1), label='numeric')\n",
    "plt.semilogy(RG.z, np.exp(-2 * RG.z * RG.eps1), '--', label='adiabatic')\n",
    "plt.legend()"
   ]
  },
  {
   "cell_type": "code",
   "execution_count": 6,
   "metadata": {},
   "outputs": [],
   "source": [
    "from sklearn.linear_model import LinearRegression"
   ]
  },
  {
   "cell_type": "code",
   "execution_count": 7,
   "metadata": {},
   "outputs": [
    {
     "name": "stdout",
     "output_type": "stream",
     "text": [
      "[[-0.29062915]] -0.2\n"
     ]
    }
   ],
   "source": [
    "model = LinearRegression()\n",
    "model.fit(np.matrix([RG.z]).T, np.matrix([np.log(np.real(np.max(RG.Y, axis=1)))]).T)\n",
    "print(model.coef_, - 2 * RG.eps1)"
   ]
  },
  {
   "cell_type": "markdown",
   "metadata": {},
   "source": [
    "## $\\varepsilon_1 = 0$"
   ]
  },
  {
   "cell_type": "code",
   "execution_count": 8,
   "metadata": {},
   "outputs": [
    {
     "name": "stderr",
     "output_type": "stream",
     "text": [
      "100%|██████████| 499/499 [00:13<00:00, 35.91it/s]\n"
     ]
    }
   ],
   "source": [
    "RG2 = NonLinear()\n",
    "\n",
    "RG2.dt = 0.02\n",
    "RG2.times = np.arange(-10, 10, RG2.dt)\n",
    "\n",
    "RG2.dz = 0.02\n",
    "RG2.z = np.arange(0, 10, RG2.dz)\n",
    "\n",
    "RG2.eta = 1\n",
    "RG2.a0 = RG2.eta / np.cosh(RG2.times * RG2.eta)\n",
    "\n",
    "RG2.eps1 = 0.0\n",
    "RG2.eps2 = 0.05\n",
    "\n",
    "RG2.integrate(notebook=True)"
   ]
  },
  {
   "cell_type": "code",
   "execution_count": 19,
   "metadata": {},
   "outputs": [
    {
     "data": {
      "application/vnd.jupyter.widget-view+json": {
       "model_id": "13af61cdfb5c4eb881455191b9b820a6",
       "version_major": 2,
       "version_minor": 0
      },
      "text/plain": [
       "FigureCanvasNbAgg()"
      ]
     },
     "metadata": {},
     "output_type": "display_data"
    },
    {
     "data": {
      "application/vnd.jupyter.widget-view+json": {
       "model_id": "ff8d9f21b04d4d4db5034ea34e517cac",
       "version_major": 2,
       "version_minor": 0
      },
      "text/plain": [
       "FloatSlider(value=0.0, description='$z:$', max=9.98)"
      ]
     },
     "metadata": {},
     "output_type": "display_data"
    }
   ],
   "source": [
    "slider = FloatSlider(\n",
    "    orientation='horizontal',\n",
    "    value=0,\n",
    "    min=0.,\n",
    "    max=RG2.z[-1],\n",
    "    description='$z:$'\n",
    ")\n",
    "\n",
    "fig = figure(3, figsize=(8, 4))\n",
    "\n",
    "line, = plt.plot(RG2.times, np.real(RG2.Y[0]))\n",
    "line2, = plt.plot(RG2.times, abs(RG2.Y[0]), 'k--')\n",
    "\n",
    "\n",
    "def update_lines(change):\n",
    "    i = np.argmin(abs(RG2.z-change.new))\n",
    "    line.set_data(RG2.times, np.real(RG2.Y[i]))\n",
    "    line2.set_data(RG2.times, abs(RG2.Y[i]))\n",
    "    \n",
    "    fig.canvas.draw()\n",
    "    fig.canvas.flush_events()\n",
    "    \n",
    "slider.observe(update_lines, names='value')\n",
    "slider"
   ]
  },
  {
   "cell_type": "code",
   "execution_count": 10,
   "metadata": {},
   "outputs": [
    {
     "data": {
      "application/vnd.jupyter.widget-view+json": {
       "model_id": "b585bb40f72f4b83aaea6f3025a1f045",
       "version_major": 2,
       "version_minor": 0
      },
      "text/plain": [
       "FigureCanvasNbAgg()"
      ]
     },
     "metadata": {},
     "output_type": "display_data"
    },
    {
     "data": {
      "text/plain": [
       "<matplotlib.legend.Legend at 0x7ff04e03d898>"
      ]
     },
     "execution_count": 10,
     "metadata": {},
     "output_type": "execute_result"
    }
   ],
   "source": [
    "fig = figure(4, figsize=(8, 4))\n",
    "\n",
    "plt.plot(RG2.z, np.max(abs(RG2.Y), axis=1), label='numeric')\n",
    "plt.plot(RG2.z, np.sqrt(1 / (8/3 * RG2.eps2 * RG2.z + 1)), '--', label='adiabatic')\n",
    "plt.legend()"
   ]
  },
  {
   "cell_type": "markdown",
   "metadata": {},
   "source": [
    "# Exercise 2"
   ]
  },
  {
   "cell_type": "code",
   "execution_count": 17,
   "metadata": {},
   "outputs": [
    {
     "data": {
      "application/vnd.jupyter.widget-view+json": {
       "model_id": "2e2d425d6b454ad9bafdb9dafe628351",
       "version_major": 2,
       "version_minor": 0
      },
      "text/plain": [
       "HBox(children=(IntProgress(value=0, max=374), HTML(value='')))"
      ]
     },
     "metadata": {},
     "output_type": "display_data"
    },
    {
     "name": "stdout",
     "output_type": "stream",
     "text": [
      "\n"
     ]
    }
   ],
   "source": [
    "RG3 = NonLinear()\n",
    "\n",
    "RG3.dt = 0.02\n",
    "RG3.times = np.arange(-15, 15, RG3.dt)\n",
    "\n",
    "RG3.dz = 0.02\n",
    "RG3.z = np.arange(0, 7.5, RG3.dz)\n",
    "\n",
    "RG3.eta = 1\n",
    "RG3.a0 = RG3.eta / np.cosh(RG3.times * RG3.eta)\n",
    "\n",
    "RG3.gamma = 0.1\n",
    "\n",
    "RG3.integrate(type='NLS2', notebook=True)"
   ]
  },
  {
   "cell_type": "code",
   "execution_count": 20,
   "metadata": {},
   "outputs": [
    {
     "data": {
      "application/vnd.jupyter.widget-view+json": {
       "model_id": "5a09cf9c1ad4486e9cbb7597223eeafe",
       "version_major": 2,
       "version_minor": 0
      },
      "text/plain": [
       "FigureCanvasNbAgg()"
      ]
     },
     "metadata": {},
     "output_type": "display_data"
    },
    {
     "data": {
      "application/vnd.jupyter.widget-view+json": {
       "model_id": "77c626ddb34c4b6ea1dc7f303d488537",
       "version_major": 2,
       "version_minor": 0
      },
      "text/plain": [
       "FloatSlider(value=0.0, description='$z:$', max=7.48)"
      ]
     },
     "metadata": {},
     "output_type": "display_data"
    }
   ],
   "source": [
    "slider = FloatSlider(\n",
    "    orientation='horizontal',\n",
    "    value=0,\n",
    "    min=0.,\n",
    "    max=RG3.z[-1],\n",
    "    description='$z:$'\n",
    ")\n",
    "\n",
    "fig = figure(5, figsize=(8, 4))\n",
    "\n",
    "line, = plt.plot(RG3.times, np.real(RG3.Y[0]))\n",
    "line2, = plt.plot(RG3.times, abs(RG3.Y[0]), 'k--')\n",
    "\n",
    "\n",
    "def update_lines(change):\n",
    "    i = np.argmin(abs(RG3.z-change.new))\n",
    "    line.set_data(RG3.times, np.real(RG3.Y[i]))\n",
    "    line2.set_data(RG3.times, abs(RG3.Y[i]))\n",
    "    \n",
    "    fig.canvas.draw()\n",
    "    fig.canvas.flush_events()\n",
    "    \n",
    "slider.observe(update_lines, names='value')\n",
    "slider"
   ]
  },
  {
   "cell_type": "code",
   "execution_count": 4,
   "metadata": {},
   "outputs": [],
   "source": [
    "import subprocess\n",
    "# plt.style.use('default')"
   ]
  },
  {
   "cell_type": "code",
   "execution_count": 5,
   "metadata": {},
   "outputs": [
    {
     "data": {
      "application/vnd.jupyter.widget-view+json": {
       "model_id": "db86720632704a96874a438b9e838268",
       "version_major": 2,
       "version_minor": 0
      },
      "text/plain": [
       "FigureCanvasNbAgg()"
      ]
     },
     "metadata": {},
     "output_type": "display_data"
    },
    {
     "data": {
      "text/plain": [
       "0"
      ]
     },
     "execution_count": 5,
     "metadata": {},
     "output_type": "execute_result"
    }
   ],
   "source": [
    "e3 = 0.1\n",
    "# e4 = e3**2 / 4 \n",
    "\n",
    "eta = 10\n",
    "\n",
    "omega = np.linspace(-35, 7, 500)\n",
    "k1 = -0.5 * omega**2 * (1 + 2 * e3 * omega + 2* e3**2 / 4 * omega**2)\n",
    "k2 = -0.5 * omega**2 * (1 + 2 * e3 * omega + 2* e3**2  * omega**2)\n",
    "\n",
    "fig = figure(6, figsize=(10, 5))\n",
    "plt.plot(omega, k1, label='$\\epsilon_3^2 > 2\\epsilon_4$')\n",
    "plt.plot(omega, k2, label='$\\epsilon_3^2 < 2\\epsilon_4$')\n",
    "plt.plot([-32.8, -15], 2*[96], label='$\\eta^2/2$')\n",
    "plt.xlim([-36, 8])\n",
    "plt.ylim([-100, 300])\n",
    "plt.legend()\n",
    "\n",
    "plt.xlabel('$\\omega$')\n",
    "plt.ylabel('$k$')\n",
    "\n",
    "plt.xticks([0])\n",
    "plt.yticks([0])\n",
    "\n",
    "plt.plot([-40, 10], [0, 0], 'k--', lw=1)\n",
    "plt.plot([0, 0], [-110, 310], 'k--', lw=1)\n",
    "\n",
    "omega = np.linspace(-40, 40, 500)\n",
    "\n",
    "plt.fill(omega, 200 /np.cosh((np.pi * omega)/ (2*eta)), alpha=0.3, zorder=1)\n",
    "\n",
    "filename = 'Blatt6.pdf'\n",
    "plt.savefig(filename)\n",
    "\n",
    "subprocess.call(['pdfcrop', filename, filename])"
   ]
  },
  {
   "cell_type": "code",
   "execution_count": 11,
   "metadata": {},
   "outputs": [
    {
     "data": {
      "application/vnd.jupyter.widget-view+json": {
       "model_id": "00230af855de4729bb9b07be65e039f9",
       "version_major": 2,
       "version_minor": 0
      },
      "text/plain": [
       "FigureCanvasNbAgg()"
      ]
     },
     "metadata": {},
     "output_type": "display_data"
    },
    {
     "data": {
      "text/plain": [
       "[<matplotlib.lines.Line2D at 0x7f9eec2257f0>]"
      ]
     },
     "execution_count": 11,
     "metadata": {},
     "output_type": "execute_result"
    }
   ],
   "source": [
    "e3 = 0.1\n",
    "# e4 = e3**2 / 4 \n",
    "\n",
    "eta = 10\n",
    "\n",
    "omega = np.linspace(-35, 7, 500)\n",
    "k1 = -0.5 * omega**2 * (1 + 2 * e3 * omega + 2* e3**2 / 4 * omega**2)\n",
    "k2 = -0.5 * omega**2 * (1 + 2 * e3 * omega + 2* e3**2  * omega**2)\n",
    "\n",
    "fig = figure(7, figsize=(10, 5))\n",
    "plt.plot(omega, k1, label='$\\epsilon_3^2 > 2\\epsilon_4$')\n",
    "# plt.plot(omega, k1 + 50 * omega, label='$\\epsilon_3^2 > 2\\epsilon_4$')\n"
   ]
  },
  {
   "cell_type": "code",
   "execution_count": null,
   "metadata": {},
   "outputs": [],
   "source": []
  }
 ],
 "metadata": {
  "kernelspec": {
   "display_name": "Python 3",
   "language": "python",
   "name": "python3"
  },
  "language_info": {
   "codemirror_mode": {
    "name": "ipython",
    "version": 3
   },
   "file_extension": ".py",
   "mimetype": "text/x-python",
   "name": "python",
   "nbconvert_exporter": "python",
   "pygments_lexer": "ipython3",
   "version": "3.7.1"
  }
 },
 "nbformat": 4,
 "nbformat_minor": 2
}
