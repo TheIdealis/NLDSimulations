{
 "cells": [
  {
   "cell_type": "markdown",
   "metadata": {},
   "source": [
    "# Explore the wave package"
   ]
  },
  {
   "cell_type": "code",
   "execution_count": 48,
   "metadata": {},
   "outputs": [],
   "source": [
    "import pylab as plt\n",
    "import numpy as np\n",
    "import ipywidgets as iw\n",
    "import scipy.fftpack as ft"
   ]
  },
  {
   "cell_type": "code",
   "execution_count": 46,
   "metadata": {},
   "outputs": [],
   "source": [
    "def package(t, z, D=1, T0=1, A0=1):\n",
    "    z0 = - T0**2 / (2*D)\n",
    "    a = 1 + 0*1j\n",
    "    a *= A0 / np.sqrt(1 + 1j * z / z0)\n",
    "    a *= np.exp(- t**2 / (T0**2 * (1 + (z/z0)**2)))\n",
    "    a *= np.exp(- 1j * z/z0 * t**2 / (T0**2 * (1 + (z/z0)**2)))\n",
    "    return a"
   ]
  },
  {
   "cell_type": "code",
   "execution_count": 93,
   "metadata": {},
   "outputs": [
    {
     "data": {
      "application/vnd.jupyter.widget-view+json": {
       "model_id": "d4e2a3b9d04e4ba99436e39685715ddf",
       "version_major": 2,
       "version_minor": 0
      },
      "text/plain": [
       "interactive(children=(FloatSlider(value=0.0, description='z', max=2.0, step=0.01), Output()), _dom_classes=('w…"
      ]
     },
     "metadata": {},
     "output_type": "display_data"
    }
   ],
   "source": [
    "times = np.linspace(-10, 10, 1000)\n",
    "\n",
    "@iw.interact(z = iw.FloatSlider(min=0, max=2,step=0.01))\n",
    "def plotit(z):\n",
    "    plt.figure(figsize=(12, 4))\n",
    "    plt.subplots_adjust(wspace=0.25)\n",
    "    plt.subplot(121)\n",
    "    plt.plot(times, np.real(package(times, z)))\n",
    "    plt.plot(times, np.abs(package(times, z)), 'k--')\n",
    "    plt.xlabel('$\\\\tau$')\n",
    "    plt.subplot(122)\n",
    "    plt.plot(times, np.imag(package(times, z)))\n",
    "    plt.plot(times, np.abs(package(times, z)), 'k--')\n",
    "    plt.xlabel('$\\\\tau$')"
   ]
  },
  {
   "cell_type": "markdown",
   "metadata": {},
   "source": [
    "## 1. b) local frequency"
   ]
  },
  {
   "cell_type": "code",
   "execution_count": 97,
   "metadata": {},
   "outputs": [],
   "source": [
    "def local_freq(t, z=0, D=1, T0=1):\n",
    "    z0 = T0**2 / (2*D)\n",
    "    return z/z0 * (2*t) / (T0**2 * (1 + (z/z0)**2))"
   ]
  },
  {
   "cell_type": "code",
   "execution_count": 105,
   "metadata": {},
   "outputs": [
    {
     "data": {
      "application/vnd.jupyter.widget-view+json": {
       "model_id": "ca26d4f870d6440f9ffff1bc44ef6121",
       "version_major": 2,
       "version_minor": 0
      },
      "text/plain": [
       "interactive(children=(FloatSlider(value=0.1, description='D', max=1.0, min=-1.0), Output()), _dom_classes=('wi…"
      ]
     },
     "metadata": {},
     "output_type": "display_data"
    }
   ],
   "source": [
    "zs = np.linspace(0, 2, 100)\n",
    "\n",
    "@iw.interact(D = iw.FloatSlider(min=-1, max=1, value=0.1))\n",
    "def plotit(D):\n",
    "    plt.plot(zs, local_freq(1, zs, D=D))"
   ]
  },
  {
   "cell_type": "markdown",
   "metadata": {},
   "source": [
    "## 1. c) Spectrum"
   ]
  },
  {
   "cell_type": "code",
   "execution_count": 85,
   "metadata": {},
   "outputs": [],
   "source": [
    "def fft_func(om, z, D=1, T0=1, A0=1):\n",
    "    a = 1 + 0*1j\n",
    "    a *= A0 * np.sqrt(T0**2 / 2)\n",
    "    a *= np.exp(- om**2 * T0**2 / 4)\n",
    "    a *= np.exp(1j * D/2 * om**2 * z)\n",
    "    return a / np.sum(abs(a))"
   ]
  },
  {
   "cell_type": "code",
   "execution_count": 91,
   "metadata": {},
   "outputs": [
    {
     "data": {
      "text/plain": [
       "[<matplotlib.lines.Line2D at 0x7fab03bc5e48>]"
      ]
     },
     "execution_count": 91,
     "metadata": {},
     "output_type": "execute_result"
    },
    {
     "data": {
      "image/png": "[encoded data removed]",
      "text/plain": [
       "<Figure size 864x288 with 2 Axes>"
      ]
     },
     "metadata": {
      "needs_background": "light"
     },
     "output_type": "display_data"
    }
   ],
   "source": [
    "N = 100\n",
    "times = np.linspace(-20, 20, N)\n",
    "dt = times[1] - times[0]\n",
    "oms = ft.fftfreq(N, d=dt/(2*np.pi))\n",
    "\n",
    "plt.figure(figsize=(12, 4))\n",
    "plt.subplots_adjust(wspace=0.25)\n",
    "plt.subplot(121)\n",
    "fft_num = ft.fft(package(times, 0))\n",
    "plt.plot(oms, abs(fft_num)**2 / np.sum(abs(fft_num))**2)\n",
    "# plt.plot(times, np.abs(package(times, z)), 'k--')\n",
    "# plt.xlabel('$\\\\tau$')\n",
    "plt.subplot(122)\n",
    "fft_num = ft.fft(package(times, 1))\n",
    "plt.plot(oms, abs(fft_num)**2 / np.sum(abs(fft_num))**2)\n",
    "plt.plot(oms, abs(fft_func(oms, 1))**2, 'k--')\n",
    "# plt.plot(times, np.abs(package(times, z)), 'k--')\n",
    "# plt.xlabel('$\\\\tau$')"
   ]
  },
  {
   "cell_type": "code",
   "execution_count": null,
   "metadata": {},
   "outputs": [],
   "source": []
  }
 ],
 "metadata": {
  "kernelspec": {
   "display_name": "Python 3",
   "language": "python",
   "name": "python3"
  },
  "language_info": {
   "codemirror_mode": {
    "name": "ipython",
    "version": 3
   },
   "file_extension": ".py",
   "mimetype": "text/x-python",
   "name": "python",
   "nbconvert_exporter": "python",
   "pygments_lexer": "ipython3",
   "version": "3.7.0"
  }
 },
 "nbformat": 4,
 "nbformat_minor": 2
}
