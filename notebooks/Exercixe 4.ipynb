{
 "cells": [
  {
   "cell_type": "code",
   "execution_count": 1,
   "metadata": {},
   "outputs": [],
   "source": [
    "%matplotlib ipympl\n",
    "def figure(name, *args, **kwargs):\n",
    "    plt.close(name)\n",
    "    plt.figure(name, *args, **kwargs)\n",
    "    return plt.gcf()"
   ]
  },
  {
   "cell_type": "code",
   "execution_count": 2,
   "metadata": {},
   "outputs": [],
   "source": [
    "import numpy as np\n",
    "import pylab as plt\n",
    "plt.style.use('default')\n",
    "from ipywidgets import HBox, FloatSlider"
   ]
  },
  {
   "cell_type": "code",
   "execution_count": 3,
   "metadata": {},
   "outputs": [
    {
     "data": {
      "application/vnd.jupyter.widget-view+json": {
       "model_id": "bdef358ac3124cf3b63c8e00fbd531ec",
       "version_major": 2,
       "version_minor": 0
      },
      "text/plain": [
       "FigureCanvasNbAgg()"
      ]
     },
     "metadata": {},
     "output_type": "display_data"
    },
    {
     "data": {
      "application/vnd.jupyter.widget-view+json": {
       "model_id": "682486f60fb14f59995b8ceca34789f8",
       "version_major": 2,
       "version_minor": 0
      },
      "text/plain": [
       "FloatSlider(value=1.0, max=5.0, min=0.5)"
      ]
     },
     "metadata": {},
     "output_type": "display_data"
    }
   ],
   "source": [
    "slider = FloatSlider(\n",
    "    orientation='horizontal',\n",
    "    value=1.0,\n",
    "    min=0.5,\n",
    "    max=5.0\n",
    ")\n",
    "\n",
    "\n",
    "fig = figure(1, figsize=(12, 4))\n",
    "\n",
    "L = .5\n",
    "A = slider.value * np.pi\n",
    "r = np.linspace(-0.1 * A, A, 10000)\n",
    "sig = np.sqrt(A**2 - r**2)\n",
    "f1 = np.tan(2*sig*L)\n",
    "f2 = 2 * r * sig / (A**2 - 2 * r**2)\n",
    "\n",
    "plt.subplot(122)\n",
    "line3, = plt.plot(r/A, (f2 - f1)**2)\n",
    "plt.plot(r/A, np.zeros(10000), 'k--')\n",
    "plt.ylim([-0.1,1])\n",
    "\n",
    "f1[abs(f1) > 20] = np.nan\n",
    "f2[abs(f2) > 20] = np.nan\n",
    "\n",
    "plt.subplot(121)\n",
    "line1, = plt.plot(r/A, f1)\n",
    "line2, = plt.plot(r/A, f2)\n",
    "plt.plot(r/A, np.zeros(10000), 'k--')\n",
    "plt.ylim([-20,20])\n",
    "\n",
    "\n",
    "\n",
    "def update_lines(change):\n",
    "    L = .5\n",
    "    A = change.new * np.pi\n",
    "    r = np.linspace(-A, A, 10000)\n",
    "    sig = np.sqrt(A**2 - r**2)\n",
    "    f1 = np.tan(2*sig*L)\n",
    "    f2 = 2 * r * sig / (A**2 - 2 * r**2)\n",
    "    line3.set_data(r/A, (f2 - f1)**2)\n",
    "    \n",
    "    f1[abs(f1) > 20] = np.nan\n",
    "    f2[abs(f2) > 20] = np.nan\n",
    "    \n",
    "    line1.set_data(r/A, f1)\n",
    "    line2.set_data(r/A, f2)\n",
    "    \n",
    "    fig.canvas.draw()\n",
    "    fig.canvas.flush_events()\n",
    "\n",
    "slider.observe(update_lines, names='value')\n",
    "slider\n",
    "# HBox([slider, fig.canvas])"
   ]
  },
  {
   "cell_type": "code",
   "execution_count": 119,
   "metadata": {},
   "outputs": [
    {
     "data": {
      "text/plain": [
       "(-10, 10)"
      ]
     },
     "execution_count": 119,
     "metadata": {},
     "output_type": "execute_result"
    }
   ],
   "source": [
    "L = .5\n",
    "A = 3. * np.pi\n",
    "r = np.linspace(-A, A, 10000)\n",
    "sig = np.sqrt(A**2 - r**2)\n",
    "f1 = np.tan(2*sig*L)\n",
    "f2 = 2 * r * sig / (A**2 - 2 * r**2)\n",
    "figure(2)\n",
    "# plt.semilogy(r, (f1 - f2)**2)\n",
    "plt.plot(r, f1)\n",
    "plt.plot(r, f2)\n",
    "# plt.lot(r, np.zeros(1000), 'k--')\n",
    "plt.ylim([-10, 10])"
   ]
  },
  {
   "cell_type": "code",
   "execution_count": 72,
   "metadata": {},
   "outputs": [
    {
     "data": {
      "text/plain": [
       "0.7357588823428847"
      ]
     },
     "execution_count": 72,
     "metadata": {},
     "output_type": "execute_result"
    }
   ],
   "source": [
    "2/np.e"
   ]
  },
  {
   "cell_type": "code",
   "execution_count": 5,
   "metadata": {},
   "outputs": [],
   "source": [
    "plt.close(5)"
   ]
  },
  {
   "cell_type": "code",
   "execution_count": null,
   "metadata": {},
   "outputs": [],
   "source": []
  }
 ],
 "metadata": {
  "kernelspec": {
   "display_name": "Python 3",
   "language": "python",
   "name": "python3"
  },
  "language_info": {
   "codemirror_mode": {
    "name": "ipython",
    "version": 3
   },
   "file_extension": ".py",
   "mimetype": "text/x-python",
   "name": "python",
   "nbconvert_exporter": "python",
   "pygments_lexer": "ipython3",
   "version": "3.7.1"
  }
 },
 "nbformat": 4,
 "nbformat_minor": 2
}
